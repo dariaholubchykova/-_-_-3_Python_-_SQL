{
 "cells": [
  {
   "cell_type": "markdown",
   "id": "2153041f",
   "metadata": {
    "id": "2153041f"
   },
   "source": [
    "# Завдання на використання SQL в Python"
   ]
  },
  {
   "cell_type": "markdown",
   "id": "2c1af6e1",
   "metadata": {
    "ExecuteTime": {
     "end_time": "2022-11-27T18:04:46.316592Z",
     "start_time": "2022-11-27T18:04:46.302021Z"
    },
    "id": "2c1af6e1"
   },
   "source": [
    "1.Встановіть бібліотеку `mysql-connector-python` через pip aбо через conda."
   ]
  },
  {
   "cell_type": "code",
   "execution_count": 1,
   "id": "a8fcd64e",
   "metadata": {
    "id": "a8fcd64e"
   },
   "outputs": [
    {
     "name": "stdout",
     "output_type": "stream",
     "text": [
      "Collecting mysql-connector-python\n",
      "  Downloading mysql_connector_python-9.1.0-cp312-cp312-macosx_13_0_arm64.whl.metadata (6.0 kB)\n",
      "Downloading mysql_connector_python-9.1.0-cp312-cp312-macosx_13_0_arm64.whl (15.1 MB)\n",
      "\u001b[2K   \u001b[38;2;114;156;31m━━━━━━━━━━━━━━━━━━━━━━━━━━━━━━━━━━━━━━━━\u001b[0m \u001b[32m15.1/15.1 MB\u001b[0m \u001b[31m5.7 MB/s\u001b[0m eta \u001b[36m0:00:00\u001b[0mm eta \u001b[36m0:00:01\u001b[0m[36m0:00:01\u001b[0m\n",
      "\u001b[?25hInstalling collected packages: mysql-connector-python\n",
      "Successfully installed mysql-connector-python-9.1.0\n"
     ]
    }
   ],
   "source": [
    "!pip install mysql-connector-python"
   ]
  },
  {
   "cell_type": "code",
   "execution_count": 41,
   "id": "f035b03b-819e-43e3-ae1f-8f7eeadc7158",
   "metadata": {},
   "outputs": [],
   "source": [
    "import mysql.connector\n",
    "from mysql.connector.connection import MySQLConnection\n",
    "import pandas as pd"
   ]
  },
  {
   "cell_type": "markdown",
   "id": "eec5551e",
   "metadata": {
    "id": "eec5551e",
    "pycharm": {
     "name": "#%% md\n"
    }
   },
   "source": [
    "2.В змінній `con` створіть підключення до бази даних employees за аналогією того, як це робилось в лекції:"
   ]
  },
  {
   "cell_type": "code",
   "execution_count": 3,
   "id": "e3fff0d8",
   "metadata": {
    "id": "e3fff0d8"
   },
   "outputs": [],
   "source": [
    "con = mysql.connector.connect(user='user1', password='7oygWy6P',\n",
    "                              host='3.68.62.36',\n",
    "                              database='employees')"
   ]
  },
  {
   "cell_type": "markdown",
   "id": "8b17a588",
   "metadata": {
    "ExecuteTime": {
     "end_time": "2022-01-26T22:23:01.406330Z",
     "start_time": "2022-01-26T22:23:01.403942Z"
    },
    "id": "8b17a588",
    "pycharm": {
     "name": "#%% md\n"
    }
   },
   "source": [
    "3.Виберіть максимальну і мінімальну дати найму співробітників використовуючи `con.cursor()`. Аби отримати результати в кінці, виконайте `cursor.fetchall()`."
   ]
  },
  {
   "cell_type": "code",
   "execution_count": 5,
   "id": "2d9785de",
   "metadata": {
    "id": "2d9785de"
   },
   "outputs": [
    {
     "data": {
      "text/plain": [
       "[(datetime.date(2000, 1, 28), datetime.date(1985, 1, 1))]"
      ]
     },
     "execution_count": 5,
     "metadata": {},
     "output_type": "execute_result"
    }
   ],
   "source": [
    "cursor = con.cursor()\n",
    "sql = \"\"\"\n",
    "SELECT MAX(hire_date),MIN(hire_date)\n",
    "FROM employees\n",
    "\"\"\"\n",
    "cursor.execute(sql)\n",
    "cursor.fetchall()"
   ]
  },
  {
   "cell_type": "markdown",
   "id": "955dd2fa",
   "metadata": {
    "ExecuteTime": {
     "end_time": "2022-11-27T18:11:33.491134Z",
     "start_time": "2022-11-27T18:11:33.486973Z"
    },
    "id": "955dd2fa"
   },
   "source": [
    "Очікуваний результат:  \n",
    "    `[(datetime.date(2000, 1, 28), datetime.date(1985, 1, 1))]`"
   ]
  },
  {
   "cell_type": "markdown",
   "id": "1d9c214d",
   "metadata": {
    "ExecuteTime": {
     "end_time": "2023-07-14T15:52:49.876166Z",
     "start_time": "2023-07-14T15:52:49.855548Z"
    },
    "id": "1d9c214d"
   },
   "source": [
    "4.Давайте зберемо інформацію про останню ЗП кожного співробіткника в базі. З використанням `con.cursor()` виберіть з таблиці `salaries` для кожного співробітника його номер, останню в базі даних (тобто ту, що відповідає найновішій `to_date`) ЗП, та значення `from_date`, `to_date` для цієї ЗП.\n",
    "\n",
    "Результати запишіть у pandas DataFrame, який збережіть у змінну `res`. Як взяти з курсора назви колонок - вже наведено. На екран виведіть назви колонок в змінній `res`, розмір цього датафрейму та перші 3 записи в ньому.\n",
    "\n",
    "УВАГА! Зверніть увагу, що ЗП може оновлюватись протягом одного дня, тобто є випадки, коли апдейт ЗП був в певний день, скажімо 2001-01-01 і потім стався ще один апдейт ЗП цьому співробітнику цього самого дня. Запит має це враховувати.\n",
    "Також, теоретично ЗП може бути зменшена. Тож, брати дату з максимальною ЗП буде неправильно з точки зору бізнес логіки. Треба саме останнє історичне значення ЗП кожного співробітника."
   ]
  },
  {
   "cell_type": "code",
   "execution_count": 35,
   "id": "832a13fd-e0d2-4aea-a621-5f2634f77879",
   "metadata": {},
   "outputs": [],
   "source": [
    "cursor = con.cursor()\n",
    "sql = \"\"\"\n",
    "SELECT DISTINCT emp_no, salary, from_date, to_date\n",
    "FROM salaries \n",
    "WHERE (emp_no, to_date, from_date) IN (\n",
    "    SELECT emp_no, MAX(to_date), MAX(from_date)\n",
    "    FROM salaries\n",
    "    GROUP BY emp_no\n",
    ");\n",
    "\"\"\"\n",
    "cursor.execute(sql)"
   ]
  },
  {
   "cell_type": "code",
   "execution_count": 27,
   "id": "0d7e3d7b-82e4-4874-b6c9-0ebee601b831",
   "metadata": {},
   "outputs": [
    {
     "name": "stdout",
     "output_type": "stream",
     "text": [
      "(300024, 4)\n",
      "Index(['emp_no', 'salary', 'from_date', 'to_date'], dtype='object')\n"
     ]
    },
    {
     "data": {
      "text/html": [
       "<div>\n",
       "<style scoped>\n",
       "    .dataframe tbody tr th:only-of-type {\n",
       "        vertical-align: middle;\n",
       "    }\n",
       "\n",
       "    .dataframe tbody tr th {\n",
       "        vertical-align: top;\n",
       "    }\n",
       "\n",
       "    .dataframe thead th {\n",
       "        text-align: right;\n",
       "    }\n",
       "</style>\n",
       "<table border=\"1\" class=\"dataframe\">\n",
       "  <thead>\n",
       "    <tr style=\"text-align: right;\">\n",
       "      <th></th>\n",
       "      <th>emp_no</th>\n",
       "      <th>salary</th>\n",
       "      <th>from_date</th>\n",
       "      <th>to_date</th>\n",
       "    </tr>\n",
       "  </thead>\n",
       "  <tbody>\n",
       "    <tr>\n",
       "      <th>0</th>\n",
       "      <td>10001</td>\n",
       "      <td>88958</td>\n",
       "      <td>2002-06-22</td>\n",
       "      <td>9999-01-01</td>\n",
       "    </tr>\n",
       "    <tr>\n",
       "      <th>1</th>\n",
       "      <td>10002</td>\n",
       "      <td>72527</td>\n",
       "      <td>2001-08-02</td>\n",
       "      <td>9999-01-01</td>\n",
       "    </tr>\n",
       "    <tr>\n",
       "      <th>2</th>\n",
       "      <td>10003</td>\n",
       "      <td>43311</td>\n",
       "      <td>2001-12-01</td>\n",
       "      <td>9999-01-01</td>\n",
       "    </tr>\n",
       "  </tbody>\n",
       "</table>\n",
       "</div>"
      ],
      "text/plain": [
       "   emp_no  salary   from_date     to_date\n",
       "0   10001   88958  2002-06-22  9999-01-01\n",
       "1   10002   72527  2001-08-02  9999-01-01\n",
       "2   10003   43311  2001-12-01  9999-01-01"
      ]
     },
     "execution_count": 27,
     "metadata": {},
     "output_type": "execute_result"
    }
   ],
   "source": [
    "res = pd.DataFrame(cursor.fetchall(), columns = field_names )\n",
    "print(res.shape)\n",
    "print(res.columns)\n",
    "res.head(3)"
   ]
  },
  {
   "cell_type": "code",
   "execution_count": 23,
   "id": "bf5eb14d",
   "metadata": {
    "ExecuteTime": {
     "end_time": "2023-07-14T16:14:15.617144Z",
     "start_time": "2023-07-14T16:14:15.611369Z"
    },
    "id": "bf5eb14d"
   },
   "outputs": [
    {
     "data": {
      "text/plain": [
       "['emp_no', 'salary', 'from_date', 'to_date']"
      ]
     },
     "execution_count": 23,
     "metadata": {},
     "output_type": "execute_result"
    }
   ],
   "source": [
    "field_names = [i[0] for i in cursor.description]\n",
    "field_names"
   ]
  },
  {
   "cell_type": "markdown",
   "id": "fb5676cb",
   "metadata": {
    "id": "fb5676cb"
   },
   "source": [
    "Очікуваний результат:\n",
    "\n",
    "![](https://drive.google.com/uc?export=view&id=1lNvzbAebtkj3C2v-I5AE6HkMH8MTI1kA)"
   ]
  },
  {
   "cell_type": "markdown",
   "id": "e5770b56",
   "metadata": {
    "ExecuteTime": {
     "end_time": "2023-07-14T16:17:31.638485Z",
     "start_time": "2023-07-14T16:17:31.632827Z"
    },
    "id": "e5770b56"
   },
   "source": [
    "5.В утвореній вибірці в змінній `res` скільки значень `to_date` рівні `9999-01-01`, а скільки - ні? Увага! Для виконання цього завдання важливо розуміти, який тип даних у значень колонки `to_date`. Зʼясуйте це, і потім напишіть фільтр для виводу потрібного результату."
   ]
  },
  {
   "cell_type": "code",
   "execution_count": 37,
   "id": "0006f7a9-ddd1-4e6f-be44-992632c3caf7",
   "metadata": {},
   "outputs": [
    {
     "name": "stdout",
     "output_type": "stream",
     "text": [
      "Кількість значень, рівних 9999-01-01: 240124\n",
      "Кількість значень, не рівних 9999-01-01: 59900\n"
     ]
    }
   ],
   "source": [
    "from datetime import date\n",
    "res = pd.DataFrame(cursor.fetchall(), columns =['emp_no', 'salary', 'from_date', 'to_date'] )\n",
    "count_9999 = res[res.to_date == date(9999, 1, 1)].shape[0]\n",
    "count_no_9999 = res[res.to_date != date(9999, 1, 1)].shape[0]\n",
    "print(f\"Кількість значень, рівних 9999-01-01: {count_9999}\")\n",
    "print(f\"Кількість значень, не рівних 9999-01-01: {count_no_9999}\")"
   ]
  },
  {
   "cell_type": "markdown",
   "id": "ae22c37a",
   "metadata": {
    "id": "ae22c37a"
   },
   "source": [
    "6.Виведіть візуально розподіл (гістограму) зарплат співробітників, які досі працюють в компанії, використовуючи результат попереднього завдання. Співробітниками, які досі працюють в компанії вважаємо тих, в кого to_date має значення 9999-01-01. Обовʼязково підпишіть графік і вісі.\n",
    "\n",
    "Ці три завдання - приклад, як нам може бути зручно витягнути дані з бази певним запитом, а потім використати витягнуту вибірку у Python для подальшого аналізу."
   ]
  },
  {
   "cell_type": "code",
   "execution_count": 125,
   "id": "ede9a748",
   "metadata": {
    "id": "ede9a748"
   },
   "outputs": [],
   "source": [
    "import matplotlib.pyplot as plt"
   ]
  },
  {
   "cell_type": "code",
   "execution_count": 161,
   "id": "620c011b-a4a5-46d1-b7e1-7177e2b59ef7",
   "metadata": {},
   "outputs": [],
   "source": [
    "cursor = con.cursor()\n",
    "sql = \"\"\"\n",
    "SELECT emp_no, salary, from_date, to_date\n",
    "FROM salaries \n",
    "WHERE to_date = \"9999-01-01\";\n",
    "\"\"\"\n",
    "cursor.execute(sql)"
   ]
  },
  {
   "cell_type": "code",
   "execution_count": 163,
   "id": "f23a4519-0ce6-457e-beb8-cf88f66dbf1f",
   "metadata": {
    "scrolled": true
   },
   "outputs": [
    {
     "data": {
      "image/png": "[encoded data removed]",
      "text/plain": [
       "<Figure size 640x480 with 1 Axes>"
      ]
     },
     "metadata": {},
     "output_type": "display_data"
    }
   ],
   "source": [
    "df = pd.DataFrame(cursor.fetchall(), columns = ['emp_no', 'salary', 'from_date', 'to_date'] )\n",
    "plt.hist(df.salary)\n",
    "plt.title(\"Розподіл поточних зарплат в компанії\")\n",
    "plt.xlabel('Розмір зп')\n",
    "plt.ylabel('Кількість співробітників з такою зп');"
   ]
  },
  {
   "cell_type": "markdown",
   "id": "AL26SP3WMJiX",
   "metadata": {
    "id": "AL26SP3WMJiX"
   },
   "source": [
    "Очікуваний результат:\n",
    "\n",
    "![](https://drive.google.com/uc?export=view&id=1j8MHLC1E0revbQLM9B0UJs6tVEgoWhmK)"
   ]
  },
  {
   "cell_type": "markdown",
   "id": "Cp_JpGPpKmzp",
   "metadata": {
    "id": "Cp_JpGPpKmzp"
   },
   "source": [
    "НЕ ЗАБУВАЄМО ЗАКРИТИ ПІДКЛЮЧЕННЯ ДО БАЗИ :)"
   ]
  },
  {
   "cell_type": "code",
   "execution_count": 39,
   "id": "WEMo9bl6KnMh",
   "metadata": {
    "id": "WEMo9bl6KnMh"
   },
   "outputs": [],
   "source": [
    "con.close()"
   ]
  },
  {
   "cell_type": "code",
   "execution_count": null,
   "id": "5fd87d64-bdef-4185-8e44-65ed3e6dd2f6",
   "metadata": {},
   "outputs": [],
   "source": []
  }
 ],
 "metadata": {
  "colab": {
   "provenance": []
  },
  "kernelspec": {
   "display_name": "Python 3 (ipykernel)",
   "language": "python",
   "name": "python3"
  },
  "language_info": {
   "codemirror_mode": {
    "name": "ipython",
    "version": 3
   },
   "file_extension": ".py",
   "mimetype": "text/x-python",
   "name": "python",
   "nbconvert_exporter": "python",
   "pygments_lexer": "ipython3",
   "version": "3.12.4"
  },
  "toc": {
   "base_numbering": 1,
   "nav_menu": {},
   "number_sections": true,
   "sideBar": true,
   "skip_h1_title": false,
   "title_cell": "Table of Contents",
   "title_sidebar": "Contents",
   "toc_cell": false,
   "toc_position": {},
   "toc_section_display": true,
   "toc_window_display": false
  },
  "vscode": {
   "interpreter": {
    "hash": "a6511e6b41b26ba86cca7483749cf4dd15bf137a2672e550741a656e19bba82e"
   }
  }
 },
 "nbformat": 4,
 "nbformat_minor": 5
}
